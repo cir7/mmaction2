{
 "cells": [
  {
   "attachments": {},
   "cell_type": "markdown",
   "metadata": {},
   "source": [
    "# Spatio-temporal Action Detection based on MMAction2\n",
    "\n",
    "Welcome to MMAction2! This is the official colab tutorail for using MMAction2 to perform spatio-temporal action detection task. In this tutorial, you will learn the "
   ]
  }
 ],
 "metadata": {
  "language_info": {
   "name": "python"
  },
  "orig_nbformat": 4
 },
 "nbformat": 4,
 "nbformat_minor": 2
}
