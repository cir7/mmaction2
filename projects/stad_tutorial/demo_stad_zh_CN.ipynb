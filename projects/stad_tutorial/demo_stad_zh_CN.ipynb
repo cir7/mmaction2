{
 "cells": [
  {
   "attachments": {},
   "cell_type": "markdown",
   "metadata": {},
   "source": [
    "<a href=\"https://colab.research.google.com/github/open-mmlab/mmaction2/projects/stad_tutorial/demo_stad_zh_CN.ipynb\" target=\"_parent\"><img src=\"https://colab.research.google.com/assets/colab-badge.svg\" alt=\"Open In Colab\"/></a>"
   ]
  },
  {
   "attachments": {},
   "cell_type": "markdown",
   "metadata": {},
   "source": [
    "# 基于 MMAction2 进行时空行为检测任务\n",
    "欢迎使用 MMAction2! 这是一篇关于如何使用 MMAction2 进行时空行为检测的教程。在此教程中，我们会以 MultiSports 数据集为例，提供时空行为检测的完整步骤教程，包括\n",
    "- 准备时空行为检测数据集\n",
    "- 训练检测模型\n",
    "- 准备 AVA 格式的数据集\n",
    "- 训练时空行为检测模型\n"
   ]
  },
  {
   "attachments": {},
   "cell_type": "markdown",
   "metadata": {},
   "source": [
    "## 0. 安装 MMAction2 和 MMDetection"
   ]
  },
  {
   "cell_type": "code",
   "execution_count": null,
   "metadata": {},
   "outputs": [],
   "source": [
    "# Check nvcc version\n",
    "!nvcc -V\n",
    "# Check GCC version\n",
    "!gcc --version"
   ]
  },
  {
   "cell_type": "code",
   "execution_count": null,
   "metadata": {},
   "outputs": [],
   "source": [
    "%pip install -U openmim\n",
    "!mim install mmengine\n",
    "!mim install mmcv\n",
    "!mim install mmdet\n",
    "\n",
    "!git clone https://github.com/open-mmlab/mmaction2.git\n",
    "\n",
    "%cd mmaction2\n",
    "%pip install -v -e .\n",
    "%cd projects/stad_tutorial"
   ]
  },
  {
   "attachments": {},
   "cell_type": "markdown",
   "metadata": {},
   "source": [
    "## 1. 准备时空行为检测数据集\n",
    "\n",
    "类似于检测任务需要提供检测框标注，时空行为检测任务需要对时间和空间同时定位，所以需要提供更复杂的 tube 标注。以 MultiSports 数据集的标注为例，`gttubes` 字段提供了视频中所有的目标动作标注，以下为一个标注片段：\n",
    "\n",
    "```\n",
    "    'gttubes': {\n",
    "        'aerobic_gymnastics/v_aqMgwPExjD0_c001': # video_key\n",
    "            {\n",
    "                10: # 类别标号\n",
    "                    [\n",
    "                        array([[ 377.,  904.,  316., 1016.,  584.], # 类别 10 的第 1 个 tube, \n",
    "                               [ 378.,  882.,  315., 1016.,  579.], # shape (n, 5): 表示 n 帧，每帧标注中包括 (帧号，x1，y1, x2, y2)\n",
    "                               ...\n",
    "                               [ 398.,  861.,  304.,  954.,  549.]], dtype=float32)，\n",
    "                        \n",
    "                        array([[ 399.,  881.,  308.,  955.,  542.], # 类别 10 的第 2 个 tube\n",
    "                               [ 400.,  862.,  303.,  988.,  539.],\n",
    "                               [ 401.,  853.,  292., 1000.,  535.],\n",
    "                               ...])\n",
    "                        ...\n",
    "                                                        \n",
    "                    ] ,\n",
    "                9: # 类别标号\n",
    "                    [\n",
    "                        array(...), # 类别 9 的第 1 个 tube\n",
    "                        array(...), # 类别 9 的第 2 个 tube\n",
    "                        ...\n",
    "                    ]\n",
    "                ...\n",
    "            }\n",
    "    }\n",
    "```\n",
    "\n",
    "标注文件中还需要提供其他字段的信息，完整的真值文件包括以下信息：\n",
    "```\n",
    "{\n",
    "    'labels':  # 标签列表\n",
    "        ['aerobic push up', 'aerobic explosive push up', ...],\n",
    "    'train_videos':  # 训练视频列表\n",
    "        [\n",
    "            [\n",
    "                'aerobic_gymnastics/v_aqMgwPExjD0_c001',\n",
    "                'aerobic_gymnastics/v_yaKOumdXwbU_c019',\n",
    "                ... \n",
    "            ]\n",
    "        ]\n",
    "    'test_videos':  # 测试视频列表\n",
    "        [\n",
    "            [\n",
    "                'aerobic_gymnastics/v_crsi07chcV8_c004',\n",
    "                'aerobic_gymnastics/v_dFYr67eNMwA_c005',\n",
    "                ...\n",
    "            ]\n",
    "        ]\n",
    "    'n_frames':  # dict 文件，提供各个视频的帧数信息\n",
    "        {\n",
    "            'aerobic_gymnastics/v_crsi07chcV8_c004': 725,\n",
    "            'aerobic_gymnastics/v_dFYr67eNMwA_c005': 750,\n",
    "            ...\n",
    "        }\n",
    "    'resolution':  # dict 文件，提供各个视频的分辨率信息\n",
    "        {\n",
    "            'aerobic_gymnastics/v_crsi07chcV8_c004': (720, 1280),\n",
    "            'aerobic_gymnastics/v_dFYr67eNMwA_c005': (720, 1280),\n",
    "            ...\n",
    "        }\n",
    "    'gt_tubes':  # dict 文件，提供 tube 的检测框信息\n",
    "        {\n",
    "            ... # 格式参考上述说明\n",
    "        }\n",
    "}           \n",
    "```\n",
    "后续的实验基于 MultiSports-tiny 进行，我们从 MultiSports 中抽取了少量视频，用于演示整个流程。"
   ]
  },
  {
   "cell_type": "code",
   "execution_count": null,
   "metadata": {},
   "outputs": [],
   "source": [
    "# 下载数据集\n",
    "!wget -P data -c https://download.openmmlab.com/mmaction/v1.0/projects/stad_tutorial/multisports-tiny.tar\n",
    "!tar -xvf data/multisports-tiny.tar --strip 1 -C data\n",
    "!apt-get -q install tree\n",
    "!tree data"
   ]
  },
  {
   "attachments": {},
   "cell_type": "markdown",
   "metadata": {},
   "source": [
    "## 2. 训练检测模型\n",
    "\n",
    "在 SlowOnly + Det 的范式中，需要先训练人体检测器，再基于检测结果来预测行为。这一节中，我们基于上一节中的标注格式和 MMDetection 算法库训练检测模型。\n",
    "\n",
    "### 2.1 构建检测数据集标注（COCO 格式）\n",
    "\n",
    "基于时空行为检测数据集的标注信息，我们可以构建一个 COCO 格式的检测数据集，用于训练检测模型。我们提供了一个工具脚本对 MultiSports 格式的标注进行转换，如果需要基于其他格式转换，可以参考 MMDetection 提供的[自定义数据集](https://mmdetection.readthedocs.io/zh_CN/latest/advanced_guides/customize_dataset.html)文档。"
   ]
  },
  {
   "cell_type": "code",
   "execution_count": null,
   "metadata": {},
   "outputs": [],
   "source": [
    "!python tools/generate_mmdet_anno.py data/multisports/annotations/multisports_GT.pkl data/multisports/annotations/multisports_det_anno.json\n",
    "!tree data/multisports"
   ]
  },
  {
   "cell_type": "code",
   "execution_count": null,
   "metadata": {},
   "outputs": [],
   "source": [
    "!python tools/generate_rgb.py"
   ]
  },
  {
   "attachments": {},
   "cell_type": "markdown",
   "metadata": {},
   "source": [
    "### 2.2 修改 config 文件\n",
    "\n",
    "我们以 faster-rcnn_x101-64x4d_fpn_1x_coco 为基础配置，做如下修改，在 MultiSports 数据集上进行训练。需要修改以下几个部分：\n",
    "- 模型的类别数量\n",
    "- 学习率调整策略\n",
    "- 优化器配置\n",
    "- 数据集/标注文件路径\n",
    "- 评测器配置\n",
    "- 预训练模型 \n",
    "  \n",
    "更详细的教程可以参考 MMDetection 提供的[准备配置文件](https://mmdetection.readthedocs.io/zh_CN/latest/user_guides/train.html#id9)文档。"
   ]
  },
  {
   "cell_type": "code",
   "execution_count": null,
   "metadata": {},
   "outputs": [],
   "source": [
    "!cat configs/faster-rcnn_x101-64x4d_fpn_1x_coco_ms_person.py"
   ]
  },
  {
   "attachments": {},
   "cell_type": "markdown",
   "metadata": {},
   "source": [
    "### 2.3 训练检测模型"
   ]
  },
  {
   "attachments": {},
   "cell_type": "markdown",
   "metadata": {},
   "source": [
    "利用 MIM 可以在当前路径直接训练 MMDetection 模型，这里提供最简单的单卡训练示例，更多训练命令可以参考 MIM [教程](https://github.com/open-mmlab/mim#command)。"
   ]
  },
  {
   "cell_type": "code",
   "execution_count": null,
   "metadata": {},
   "outputs": [],
   "source": [
    "!mim train mmdet configs/faster-rcnn_r50-caffe_fpn_ms-1x_coco_ms_person.py \\\n",
    "    --work-dir work_dirs/det_model"
   ]
  },
  {
   "attachments": {},
   "cell_type": "markdown",
   "metadata": {},
   "source": [
    "### 2.4 生成 proposal bboxes\n",
    "\n",
    "在时空行为检测模型训练时，需要基于检测模型推理得到的 proposal，而不能基于标注的检测框。因此我们需要利用训练好的检测模型对整个数据集进行推理，得到 proposal 后转换为需要的格式，用于后续训练。\n",
    "\n",
    "#### 2.4.1 将数据集转换为 Coco 格式\n",
    "\n",
    "我们提供了脚本将 MultiSports 数据集转换成没有真值的标注格式，用于推理。"
   ]
  },
  {
   "cell_type": "code",
   "execution_count": null,
   "metadata": {},
   "outputs": [],
   "source": [
    "!echo 'person' > data/multisports/annotations/label_map.txt\n",
    "!python tools/images2coco.py \\\n",
    "        data/multisports/rawframes \\\n",
    "        data/multisports/annotations/label_map.txt \\\n",
    "        ms_infer_anno.json "
   ]
  },
  {
   "attachments": {},
   "cell_type": "markdown",
   "metadata": {},
   "source": [
    "#### 2.4.2 推理生成 proposal file "
   ]
  },
  {
   "attachments": {},
   "cell_type": "markdown",
   "metadata": {},
   "source": [
    "MMDetection 模型的推理同样基于 MIM，更多测试命令请参考 MIM [教程](https://github.com/open-mmlab/mim#command)。\n",
    "\n",
    "推理完成后，会将推理结果保存在 'data/multisports/ms_proposals.pkl'。"
   ]
  },
  {
   "cell_type": "code",
   "execution_count": null,
   "metadata": {},
   "outputs": [],
   "source": [
    "!mim test mmdet configs/faster-rcnn_r50-caffe_fpn_ms-1x_coco_ms_person.py \\\n",
    "    --checkpoint work_dirs/det_model/epoch_2.pth \\\n",
    "    --out data/multisports/annotations/ms_det_proposals.pkl"
   ]
  },
  {
   "attachments": {},
   "cell_type": "markdown",
   "metadata": {},
   "source": [
    "## 3. 训练时空行为检测模型\n",
    "\n",
    "### 3.1 转换标注文件以及 proposal 文件\n",
    "\n",
    "MultiSports 数据集提供的标注文件，以及 MMDetection 推理生成的 proposal 都需要进行格式转换，才能用于时空行为检测模型的训练。我们已经提供了相关的脚本工具，执行后即可生成指定格式"
   ]
  },
  {
   "cell_type": "code",
   "execution_count": null,
   "metadata": {},
   "outputs": [],
   "source": [
    "# 转换 anno 文件\n",
    "!python ../../tools/data/multisports/parse_anno.py \n",
    "\n",
    "# 转换 proposal 文件\n",
    "!python tools/convert_proposals.py \n",
    "\n",
    "!tree data/multisports/annotations"
   ]
  },
  {
   "attachments": {},
   "cell_type": "markdown",
   "metadata": {},
   "source": [
    "### 3.2 训练时空行为检测模型\n",
    "\n",
    "MMAction2 中已经支持训练 MultiSports 数据集，这里只需要修改 proposal 文件的路径即可, 详细配置可以参考 [config](configs/slowonly_k400_multisports.py) 文件。由于训练数据较少，配置中将在完整 MultiSports 数据集上训练得到的模型作为预训练模型，使用自定义数据集训练时不需要指定 `load_from` 配置。  "
   ]
  },
  {
   "cell_type": "code",
   "execution_count": null,
   "metadata": {},
   "outputs": [],
   "source": [
    "# 使用 MIM 训练模型\n",
    "!mim train mmaction2 configs/slowonly_k400_multisports.py \\\n",
    "    --work-dir work_dirs/stad_model/ "
   ]
  },
  {
   "attachments": {},
   "cell_type": "markdown",
   "metadata": {},
   "source": [
    "## 4. 时空行为检测模型推理\n",
    "\n",
    "训练得到检测模型和时空行为检测模型后，我们可以利用时空行为检测 demo 进行推理，可视化模型效果。\n",
    "\n",
    "由于 tutorial 中使用的训练数据较少，模型性能较差，所以可视化时使用预先训练好的模型。"
   ]
  },
  {
   "attachments": {},
   "cell_type": "markdown",
   "metadata": {},
   "source": [
    "###"
   ]
  },
  {
   "cell_type": "code",
   "execution_count": null,
   "metadata": {},
   "outputs": [],
   "source": [
    "!python ../../demo/demo_spatiotemporal_det.py \\\n",
    "    data/multisports/test/aerobic_gymnastics/v_7G_IpU0FxLU_c001.mp4 \\\n",
    "    data/demo_spatiotemporal_det.mp4 \\\n",
    "    --config configs/slowonly_k400_multisports.py \\\n",
    "    --checkpoint https://download.openmmlab.com/mmaction/v1.0/detection/slowonly/slowonly_kinetics400-pretrained-r50_8xb16-4x16x1-8e_multisports-rgb/slowonly_kinetics400-pretrained-r50_8xb16-4x16x1-8e_multisports-rgb_20230320-a1ca5e76.pth \\\n",
    "    --det-config configs/faster-rcnn_r50-caffe_fpn_ms-1x_coco_ms_person.py \\\n",
    "    --det-checkpoint work_dirs/det_model/epoch_2.pth \\\n",
    "    --det-score-thr 0.85 \\\n",
    "    --action-score-thr 0.8 \\\n",
    "    --label-map ../../tools/data/multisports/label_map.txt \\\n",
    "    --predict-stepsize 8 \\\n",
    "    --output-stepsize 1 \\\n",
    "    --output-fps 24"
   ]
  },
  {
   "cell_type": "code",
   "execution_count": null,
   "metadata": {},
   "outputs": [],
   "source": [
    "# Show Video\n",
    "import moviepy.editor\n",
    "moviepy.editor.ipython_display(\"data/demo_spatiotemporal_det.mp4\")"
   ]
  }
 ],
 "metadata": {
  "kernelspec": {
   "display_name": "Python 3",
   "language": "python",
   "name": "python3"
  },
  "language_info": {
   "codemirror_mode": {
    "name": "ipython",
    "version": 3
   },
   "file_extension": ".py",
   "mimetype": "text/x-python",
   "name": "python",
   "nbconvert_exporter": "python",
   "pygments_lexer": "ipython3",
   "version": "3.9.0"
  },
  "orig_nbformat": 4
 },
 "nbformat": 4,
 "nbformat_minor": 2
}
